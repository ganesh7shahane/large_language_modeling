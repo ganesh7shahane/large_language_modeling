{
 "cells": [
  {
   "cell_type": "markdown",
   "metadata": {},
   "source": [
    "# Pytorch Tensors:\n",
    "\n",
    "In this tutorial we go through the basics you need to know about the basics of tensors and a lot of useful tensor operations. \n",
    "\n",
    "Knowing about these operations are an essential part of Pytorch and is a foundation that will help to go further in the deep learning journey. \n",
    "\n",
    "Pytorch is in many ways an extension of NumPy with the ability to work on the GPU and these operations are very similar to what you would see in NumPy so knowing this will also allow you to quicker learn NumPy in the future.\n",
    "\n",
    "In pytorch, basic the datatype is tensor, which is a multidimensional array. So, we store all our encodings in tensors."
   ]
  },
  {
   "cell_type": "code",
   "execution_count": 5,
   "metadata": {},
   "outputs": [],
   "source": [
    "import torch\n",
    "import numpy as np\n",
    "\n",
    "device = \"cuda\" if torch.cuda.is_available() else \"cpu\"  # Cuda to run on GPU!\n",
    "\n",
    "# Initializing a Tensor in this case of shape 2x3 (2 rows, 3 columns)\n",
    "my_tensor = torch.tensor([[1, 2, 3], [4, 5, 6]], dtype=torch.float32, device=device, requires_grad=True)"
   ]
  },
  {
   "cell_type": "code",
   "execution_count": 21,
   "metadata": {},
   "outputs": [
    {
     "name": "stdout",
     "output_type": "stream",
     "text": [
      "tensor([[1., 2., 3.],\n",
      "        [4., 5., 6.]], requires_grad=True) \n",
      "\n",
      "torch.float32 \n",
      "\n",
      "cpu \n",
      "\n",
      "torch.Size([2, 3]) \n",
      "\n",
      "True \n",
      "\n"
     ]
    }
   ],
   "source": [
    "# A few tensor attributes\n",
    "\n",
    "print(my_tensor, \"\\n\")  # Prints data of the tensor, device and grad info\n",
    "\n",
    "print(my_tensor.dtype, \"\\n\")  # Prints dtype of the tensor (torch.float32, etc)\n",
    "\n",
    "print(my_tensor.device, \"\\n\")  # Prints cpu/cuda (followed by gpu number)\n",
    "\n",
    "print(my_tensor.shape, \"\\n\")  # Prints shape, in this case 2x3\n",
    "\n",
    "print(my_tensor.requires_grad, \"\\n\")  # Prints true/false"
   ]
  },
  {
   "cell_type": "code",
   "execution_count": null,
   "metadata": {},
   "outputs": [],
   "source": []
  }
 ],
 "metadata": {
  "kernelspec": {
   "display_name": "rdkit310",
   "language": "python",
   "name": "python3"
  },
  "language_info": {
   "codemirror_mode": {
    "name": "ipython",
    "version": 3
   },
   "file_extension": ".py",
   "mimetype": "text/x-python",
   "name": "python",
   "nbconvert_exporter": "python",
   "pygments_lexer": "ipython3",
   "version": "3.10.0"
  }
 },
 "nbformat": 4,
 "nbformat_minor": 2
}
